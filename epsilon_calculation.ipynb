{
 "cells": [
  {
   "cell_type": "code",
   "execution_count": 2,
   "id": "fabe4d05",
   "metadata": {},
   "outputs": [],
   "source": [
    "from model.privacy_utils.rdp_accountant import compute_rdp, get_privacy_spent"
   ]
  },
  {
   "cell_type": "code",
   "execution_count": 56,
   "id": "01eb2a1c",
   "metadata": {},
   "outputs": [
    {
     "name": "stdout",
     "output_type": "stream",
     "text": [
      "Epsilon spent :  98.9630674270005\n"
     ]
    }
   ],
   "source": [
    "batch_size = 500\n",
    "train_data_shape = 4000\n",
    "sigma = 0.454\n",
    "steps = 80\n",
    "\n",
    "max_lmbd = 4095\n",
    "lmbds = range(2, max_lmbd + 1)\n",
    "rdp = compute_rdp(batch_size / train_data_shape, sigma, steps, lmbds)\n",
    "epsilon, _, _ = get_privacy_spent(lmbds, rdp, target_delta=1e-5)\n",
    "print(\"Epsilon spent : \", epsilon)"
   ]
  },
  {
   "cell_type": "code",
   "execution_count": 86,
   "id": "83951650",
   "metadata": {},
   "outputs": [
    {
     "name": "stdout",
     "output_type": "stream",
     "text": [
      "Epsilon spent :  186.41320938903078\n"
     ]
    }
   ],
   "source": [
    "batch_size = 500\n",
    "train_data_shape = 4000\n",
    "sigma = 0.454\n",
    "steps = 160\n",
    "\n",
    "max_lmbd = 4095\n",
    "lmbds = range(2, max_lmbd + 1)\n",
    "rdp = compute_rdp(batch_size / train_data_shape, sigma, steps, lmbds)\n",
    "epsilon, _, _ = get_privacy_spent(lmbds, rdp, target_delta=1e-5)\n",
    "print(\"Epsilon spent : \", epsilon)"
   ]
  },
  {
   "cell_type": "code",
   "execution_count": 58,
   "id": "a46b5249",
   "metadata": {},
   "outputs": [
    {
     "name": "stdout",
     "output_type": "stream",
     "text": [
      "Epsilon spent :  895.8401354186868\n"
     ]
    }
   ],
   "source": [
    "batch_size = 500\n",
    "train_data_shape = 40000\n",
    "sigma = 0.325\n",
    "steps = 800\n",
    "\n",
    "max_lmbd = 4095\n",
    "lmbds = range(2, max_lmbd + 1)\n",
    "rdp = compute_rdp(batch_size / train_data_shape, sigma, steps, lmbds)\n",
    "epsilon, _, _ = get_privacy_spent(lmbds, rdp, target_delta=1e-5)\n",
    "print(\"Epsilon spent : \", epsilon)"
   ]
  },
  {
   "cell_type": "code",
   "execution_count": 84,
   "id": "1b0d7311",
   "metadata": {},
   "outputs": [
    {
     "name": "stdout",
     "output_type": "stream",
     "text": [
      "Epsilon spent :  99.08357382397752\n"
     ]
    }
   ],
   "source": [
    "batch_size = 500\n",
    "train_data_shape = 40000\n",
    "sigma = 0.389\n",
    "steps = 800\n",
    "\n",
    "max_lmbd = 4095\n",
    "lmbds = range(2, max_lmbd + 1)\n",
    "rdp = compute_rdp(batch_size / train_data_shape, sigma, steps, lmbds)\n",
    "epsilon, _, _ = get_privacy_spent(lmbds, rdp, target_delta=1e-5)\n",
    "print(\"Epsilon spent : \", epsilon)"
   ]
  },
  {
   "cell_type": "code",
   "execution_count": 92,
   "id": "48951da7",
   "metadata": {},
   "outputs": [
    {
     "name": "stdout",
     "output_type": "stream",
     "text": [
      "Epsilon spent :  1.0305269792668659\n"
     ]
    }
   ],
   "source": [
    "batch_size = 500\n",
    "train_data_shape = 40000\n",
    "sigma = 1.9\n",
    "steps = 800\n",
    "\n",
    "max_lmbd = 4095\n",
    "lmbds = range(2, max_lmbd + 1)\n",
    "rdp = compute_rdp(batch_size / train_data_shape, sigma, steps, lmbds)\n",
    "epsilon, _, _ = get_privacy_spent(lmbds, rdp, target_delta=1e-5)\n",
    "print(\"Epsilon spent : \", epsilon)"
   ]
  },
  {
   "cell_type": "code",
   "execution_count": 90,
   "id": "edd1381f",
   "metadata": {},
   "outputs": [
    {
     "name": "stdout",
     "output_type": "stream",
     "text": [
      "Epsilon spent :  1.039154054899447\n"
     ]
    }
   ],
   "source": [
    "batch_size = 500\n",
    "train_data_shape = 4000\n",
    "sigma = 2.4\n",
    "steps = 8\n",
    "\n",
    "max_lmbd = 4095\n",
    "lmbds = range(2, max_lmbd + 1)\n",
    "rdp = compute_rdp(batch_size / train_data_shape, sigma, steps, lmbds)\n",
    "epsilon, _, _ = get_privacy_spent(lmbds, rdp, target_delta=1e-5)\n",
    "print(\"Epsilon spent : \", epsilon)"
   ]
  },
  {
   "cell_type": "code",
   "execution_count": null,
   "id": "aeee3477",
   "metadata": {},
   "outputs": [],
   "source": []
  }
 ],
 "metadata": {
  "kernelspec": {
   "display_name": "Python 3",
   "language": "python",
   "name": "python3"
  },
  "language_info": {
   "codemirror_mode": {
    "name": "ipython",
    "version": 3
   },
   "file_extension": ".py",
   "mimetype": "text/x-python",
   "name": "python",
   "nbconvert_exporter": "python",
   "pygments_lexer": "ipython3",
   "version": "3.7.12"
  }
 },
 "nbformat": 4,
 "nbformat_minor": 5
}
